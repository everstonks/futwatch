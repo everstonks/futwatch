{
  "nbformat": 4,
  "nbformat_minor": 0,
  "metadata": {
    "colab": {
      "name": "futwatch-notebook.ipynb",
      "provenance": []
    },
    "kernelspec": {
      "name": "python3",
      "display_name": "Python 3"
    },
    "language_info": {
      "name": "python"
    }
  },
  "cells": [
    {
      "cell_type": "markdown",
      "metadata": {
        "id": "JmliHSqiLuy8"
      },
      "source": [
        "# FUTWATCH\n",
        "by: everstonks"
      ]
    },
    {
      "cell_type": "code",
      "metadata": {
        "id": "GO80LwuvKBQJ"
      },
      "source": [
        "!apt-get install xvfb wkhtmltopdf\n",
        "!pip install pyvirtualdisplay imgkit"
      ],
      "execution_count": null,
      "outputs": []
    },
    {
      "cell_type": "code",
      "metadata": {
        "id": "CVC012fRJBJW"
      },
      "source": [
        "!locale -a\n",
        "!locale-gen pt_BR.UTF-8\n",
        "!dpkg-reconfigure locales"
      ],
      "execution_count": null,
      "outputs": []
    },
    {
      "cell_type": "code",
      "metadata": {
        "id": "oWikz528Jbpf"
      },
      "source": [
        "import requests, os, subprocess\n",
        "import pandas as pd\n",
        "from bs4 import BeautifulSoup\n",
        "\n",
        "os.environ['LANG']='pt_BR.UTF-8'\n",
        "\n",
        "dia = subprocess.check_output(['date','+%A']).decode('utf-8').replace('\\n','').upper()\n",
        "page = 0\n",
        "\n",
        "if page == 1:\n",
        "  dia = subprocess.check_output(['date','-d','+1 days','+%A']).decode('utf-8').replace('\\n','').upper()\n",
        "\n",
        "url = ('https://www.goal.com/br/not%C3%ADcias/programacao-partidas-futebol-tv-aberta-fechada-onde-assistir/1jf3cuk3yh5uz18j0s89y5od6w/')\n",
        "j = requests.get(url)\n",
        "\n",
        "soup = BeautifulSoup(j.content, 'html.parser')\n",
        "\n",
        "data = []\n",
        "\n",
        "jogos = soup.find(\"div\", class_=\"body\")\n",
        "tables = jogos.find_all(\"table\")\n",
        "table = tables[page]\n",
        "head = table.find_all('tr', class_=\"tableizer-firstrow\")\n",
        "rows = table.find_all('tr', attrs={'class': None})\n",
        "\n",
        "for row in rows:\n",
        "  data.append(row)\n",
        "\n",
        "body = (str(data).replace('[','').replace(']',''))\n",
        "tabela = (\"<table><thead><th colspan=5>&zwnj;</th></thead><thead>\"+str(head).replace('[','').replace(']','')+\"</thead>\"+\"<tbody>\"+body+\"</tbody>\"+\"</table>\")\n",
        "\n",
        "df_lista = pd.read_html(tabela)\n",
        "df = df_lista[0]\n",
        "df.drop(columns = [('\\u200c', 'INTERNET')], inplace = True)\n",
        "xyz = df.loc[(df['\\u200c', 'CAMPEONATO'] == 'Paulistão A2') | (df['\\u200c', 'CAMPEONATO'] == 'Paulistão A3')]\n",
        "df = df.drop(xyz.index)\n",
        "df = df.style.set_table_styles(\n",
        "    [{'selector':'td', 'props':[('color','#0f0d03'), ('font-weight','normal'), ('font-size','15px'), ('text-align','justify'), ('padding','10px')]}, \n",
        "     {'selector':'tr', 'props':[('border-bottom','1px solid black')]},\n",
        "     {'selector':'tr:nth-of-type(odd)', 'props':[('color','white'),('font-size','22px')]}, \n",
        "     {'selector':'tr:nth-of-type(even)', 'props':[('background','#0f0d03'),('color','white')]},\n",
        "     {'selector':'tbody tr:nth-of-type(even)', 'props':[('background','#f3f3f3')]},\n",
        "     ]).hide_index()\n",
        "df_html = df.render()\n",
        "x = df_html.replace('\\n','').replace('colspan=4>','colspan=4 id=\"thdia\"><center>'+dia+'</center><small><i class=\"fa fa-twitter\"></i> <i class=\"fa fa-instagram\"></i> <i class=\"fa fa-youtube-play\"></i> <i class=\"fa fa-facebook\"> @goal</i></small>').replace('<style  type=\"text/css\" >','<head><meta charset=\"utf-8\"><meta name=\"viewport\" content=\"width-device, initial-scale=1\"><link rel=\"preconnect\" href=\"https://fonts.gstatic.com\"><link href=\"https://fonts.googleapis.com/css2?family=Titillium+Web:wght@400;600&display=swap\" rel=\"stylesheet\"><link rel=\"stylesheet\" href=\"https://cdnjs.cloudflare.com/ajax/libs/font-awesome/4.7.0/css/font-awesome.min.css\"></head><style type=\"text/css\">#thdia {background: #000000} table{font-family: Titillium Web, sans-serif; border-collapse: collapse; box-shadow: 0 0 20px rgba(0, 0, 0, 0.15)}')\n",
        "\n",
        "with open('index.html', 'w') as f:\n",
        "    f.write(x)\n",
        "    print ('# FUTWATCH - index.html')\n",
        "    f.close()"
      ],
      "execution_count": null,
      "outputs": []
    },
    {
      "cell_type": "code",
      "metadata": {
        "id": "LhGHdaTKJ7ak"
      },
      "source": [
        "import imgkit, requests\n",
        "from pyvirtualdisplay import Display\n",
        "\n",
        "display = Display(visible=0, size=(1024, 768))\n",
        "try:\n",
        "   display.start()\n",
        "   imgkit.from_file('index.html', 'futwatch.png')\n",
        "finally:\n",
        "   display.stop()"
      ],
      "execution_count": null,
      "outputs": []
    }
  ]
}